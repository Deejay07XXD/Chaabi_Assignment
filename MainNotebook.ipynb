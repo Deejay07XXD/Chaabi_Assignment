{
 "cells": [
  {
   "cell_type": "code",
   "execution_count": 1,
   "metadata": {
    "_cell_guid": "b1076dfc-b9ad-4769-8c92-a6c4dae69d19",
    "_uuid": "8f2839f25d086af736a60e9eeb907d3b93b6e0e5"
   },
   "outputs": [],
   "source": [
    "# This Python 3 environment comes with many helpful analytics libraries installed\n",
    "# It is defined by the kaggle/python Docker image: https://github.com/kaggle/docker-python\n",
    "# For example, here's several helpful packages to load\n",
    "\n",
    "import numpy as np # linear algebra\n",
    "import pandas as pd # data processing, CSV file I/O (e.g. pd.read_csv)\n",
    "\n",
    "# Input data files are available in the read-only \"../input/\" directory\n",
    "# For example, running this (by clicking run or pressing Shift+Enter) will list all files under the input directory\n",
    "\n",
    "import os\n",
    "for dirname, _, filenames in os.walk('/kaggle/input'):\n",
    "    for filename in filenames:\n",
    "        print(os.path.join(dirname, filename))\n",
    "\n",
    "# You can write up to 20GB to the current directory (/kaggle/working/) that gets preserved as output when you create a version using \"Save & Run All\" \n",
    "# You can also write temporary files to /kaggle/temp/, but they won't be saved outside of the current session"
   ]
  },
  {
   "cell_type": "code",
   "execution_count": 2,
   "metadata": {
    "execution": {
     "iopub.execute_input": "2023-11-30T09:57:18.050640Z",
     "iopub.status.busy": "2023-11-30T09:57:18.049785Z",
     "iopub.status.idle": "2023-11-30T09:57:18.398006Z",
     "shell.execute_reply": "2023-11-30T09:57:18.397057Z",
     "shell.execute_reply.started": "2023-11-30T09:57:18.050601Z"
    }
   },
   "outputs": [],
   "source": [
    "import pandas as pd\n",
    "import matplotlib.pyplot as plt"
   ]
  },
  {
   "cell_type": "code",
   "execution_count": 3,
   "metadata": {
    "execution": {
     "iopub.execute_input": "2023-11-30T09:57:18.399885Z",
     "iopub.status.busy": "2023-11-30T09:57:18.399469Z",
     "iopub.status.idle": "2023-11-30T09:57:18.830504Z",
     "shell.execute_reply": "2023-11-30T09:57:18.829658Z",
     "shell.execute_reply.started": "2023-11-30T09:57:18.399860Z"
    }
   },
   "outputs": [],
   "source": [
    "file_path = 'bigBasketProducts (1).csv'  # Replace with your file path\n",
    "data = pd.read_csv(file_path)\n"
   ]
  },
  {
   "cell_type": "code",
   "execution_count": 4,
   "metadata": {
    "execution": {
     "iopub.execute_input": "2023-11-30T09:57:18.832287Z",
     "iopub.status.busy": "2023-11-30T09:57:18.831993Z",
     "iopub.status.idle": "2023-11-30T09:57:18.857212Z",
     "shell.execute_reply": "2023-11-30T09:57:18.856409Z",
     "shell.execute_reply.started": "2023-11-30T09:57:18.832262Z"
    }
   },
   "outputs": [
    {
     "data": {
      "text/html": [
       "<div>\n",
       "<style scoped>\n",
       "    .dataframe tbody tr th:only-of-type {\n",
       "        vertical-align: middle;\n",
       "    }\n",
       "\n",
       "    .dataframe tbody tr th {\n",
       "        vertical-align: top;\n",
       "    }\n",
       "\n",
       "    .dataframe thead th {\n",
       "        text-align: right;\n",
       "    }\n",
       "</style>\n",
       "<table border=\"1\" class=\"dataframe\">\n",
       "  <thead>\n",
       "    <tr style=\"text-align: right;\">\n",
       "      <th></th>\n",
       "      <th>index</th>\n",
       "      <th>product</th>\n",
       "      <th>category</th>\n",
       "      <th>sub_category</th>\n",
       "      <th>brand</th>\n",
       "      <th>sale_price</th>\n",
       "      <th>market_price</th>\n",
       "      <th>type</th>\n",
       "      <th>rating</th>\n",
       "      <th>description</th>\n",
       "    </tr>\n",
       "  </thead>\n",
       "  <tbody>\n",
       "    <tr>\n",
       "      <th>0</th>\n",
       "      <td>1</td>\n",
       "      <td>Garlic Oil - Vegetarian Capsule 500 mg</td>\n",
       "      <td>Beauty &amp; Hygiene</td>\n",
       "      <td>Hair Care</td>\n",
       "      <td>Sri Sri Ayurveda</td>\n",
       "      <td>220.0</td>\n",
       "      <td>220.0</td>\n",
       "      <td>Hair Oil &amp; Serum</td>\n",
       "      <td>4.1</td>\n",
       "      <td>This Product contains Garlic Oil that is known...</td>\n",
       "    </tr>\n",
       "    <tr>\n",
       "      <th>1</th>\n",
       "      <td>2</td>\n",
       "      <td>Water Bottle - Orange</td>\n",
       "      <td>Kitchen, Garden &amp; Pets</td>\n",
       "      <td>Storage &amp; Accessories</td>\n",
       "      <td>Mastercook</td>\n",
       "      <td>180.0</td>\n",
       "      <td>180.0</td>\n",
       "      <td>Water &amp; Fridge Bottles</td>\n",
       "      <td>2.3</td>\n",
       "      <td>Each product is microwave safe (without lid), ...</td>\n",
       "    </tr>\n",
       "    <tr>\n",
       "      <th>2</th>\n",
       "      <td>3</td>\n",
       "      <td>Brass Angle Deep - Plain, No.2</td>\n",
       "      <td>Cleaning &amp; Household</td>\n",
       "      <td>Pooja Needs</td>\n",
       "      <td>Trm</td>\n",
       "      <td>119.0</td>\n",
       "      <td>250.0</td>\n",
       "      <td>Lamp &amp; Lamp Oil</td>\n",
       "      <td>3.4</td>\n",
       "      <td>A perfect gift for all occasions, be it your m...</td>\n",
       "    </tr>\n",
       "    <tr>\n",
       "      <th>3</th>\n",
       "      <td>4</td>\n",
       "      <td>Cereal Flip Lid Container/Storage Jar - Assort...</td>\n",
       "      <td>Cleaning &amp; Household</td>\n",
       "      <td>Bins &amp; Bathroom Ware</td>\n",
       "      <td>Nakoda</td>\n",
       "      <td>149.0</td>\n",
       "      <td>176.0</td>\n",
       "      <td>Laundry, Storage Baskets</td>\n",
       "      <td>3.7</td>\n",
       "      <td>Multipurpose container with an attractive desi...</td>\n",
       "    </tr>\n",
       "    <tr>\n",
       "      <th>4</th>\n",
       "      <td>5</td>\n",
       "      <td>Creme Soft Soap - For Hands &amp; Body</td>\n",
       "      <td>Beauty &amp; Hygiene</td>\n",
       "      <td>Bath &amp; Hand Wash</td>\n",
       "      <td>Nivea</td>\n",
       "      <td>162.0</td>\n",
       "      <td>162.0</td>\n",
       "      <td>Bathing Bars &amp; Soaps</td>\n",
       "      <td>4.4</td>\n",
       "      <td>Nivea Creme Soft Soap gives your skin the best...</td>\n",
       "    </tr>\n",
       "  </tbody>\n",
       "</table>\n",
       "</div>"
      ],
      "text/plain": [
       "   index                                            product  \\\n",
       "0      1             Garlic Oil - Vegetarian Capsule 500 mg   \n",
       "1      2                              Water Bottle - Orange   \n",
       "2      3                     Brass Angle Deep - Plain, No.2   \n",
       "3      4  Cereal Flip Lid Container/Storage Jar - Assort...   \n",
       "4      5                 Creme Soft Soap - For Hands & Body   \n",
       "\n",
       "                 category           sub_category              brand  \\\n",
       "0        Beauty & Hygiene              Hair Care  Sri Sri Ayurveda    \n",
       "1  Kitchen, Garden & Pets  Storage & Accessories         Mastercook   \n",
       "2    Cleaning & Household            Pooja Needs                Trm   \n",
       "3    Cleaning & Household   Bins & Bathroom Ware             Nakoda   \n",
       "4        Beauty & Hygiene       Bath & Hand Wash              Nivea   \n",
       "\n",
       "   sale_price  market_price                      type  rating  \\\n",
       "0       220.0         220.0          Hair Oil & Serum     4.1   \n",
       "1       180.0         180.0    Water & Fridge Bottles     2.3   \n",
       "2       119.0         250.0           Lamp & Lamp Oil     3.4   \n",
       "3       149.0         176.0  Laundry, Storage Baskets     3.7   \n",
       "4       162.0         162.0      Bathing Bars & Soaps     4.4   \n",
       "\n",
       "                                         description  \n",
       "0  This Product contains Garlic Oil that is known...  \n",
       "1  Each product is microwave safe (without lid), ...  \n",
       "2  A perfect gift for all occasions, be it your m...  \n",
       "3  Multipurpose container with an attractive desi...  \n",
       "4  Nivea Creme Soft Soap gives your skin the best...  "
      ]
     },
     "execution_count": 4,
     "metadata": {},
     "output_type": "execute_result"
    }
   ],
   "source": [
    "data.head()"
   ]
  },
  {
   "cell_type": "code",
   "execution_count": 6,
   "metadata": {
    "execution": {
     "iopub.execute_input": "2023-11-30T09:57:19.417154Z",
     "iopub.status.busy": "2023-11-30T09:57:19.416800Z",
     "iopub.status.idle": "2023-11-30T09:57:19.446907Z",
     "shell.execute_reply": "2023-11-30T09:57:19.446123Z",
     "shell.execute_reply.started": "2023-11-30T09:57:19.417125Z"
    }
   },
   "outputs": [],
   "source": [
    "unique_categories = data['category'].unique()\n",
    "unique_sub_categories = data['sub_category'].unique()\n",
    "unique_products = data['product'].unique()\n",
    "unique_descriptions = data['description'].unique()"
   ]
  },
  {
   "cell_type": "code",
   "execution_count": 7,
   "metadata": {
    "execution": {
     "iopub.execute_input": "2023-11-30T09:57:19.909179Z",
     "iopub.status.busy": "2023-11-30T09:57:19.908216Z",
     "iopub.status.idle": "2023-11-30T09:57:19.914525Z",
     "shell.execute_reply": "2023-11-30T09:57:19.913469Z",
     "shell.execute_reply.started": "2023-11-30T09:57:19.909144Z"
    }
   },
   "outputs": [
    {
     "name": "stdout",
     "output_type": "stream",
     "text": [
      "{'Unique Categories': 11, 'Unique Sub-Categories': 90, 'Unique Products': 23541, 'Unique Descriptions': 21945}\n"
     ]
    }
   ],
   "source": [
    "# Summary of findings\n",
    "summary = {\n",
    "    \"Unique Categories\": len(unique_categories),\n",
    "    \"Unique Sub-Categories\": len(unique_sub_categories),\n",
    "    \"Unique Products\": len(unique_products),\n",
    "    \"Unique Descriptions\": len(unique_descriptions)\n",
    "}\n",
    "print(summary)"
   ]
  },
  {
   "cell_type": "code",
   "execution_count": 8,
   "metadata": {
    "execution": {
     "iopub.execute_input": "2023-11-30T09:57:20.361856Z",
     "iopub.status.busy": "2023-11-30T09:57:20.361500Z",
     "iopub.status.idle": "2023-11-30T09:57:20.387442Z",
     "shell.execute_reply": "2023-11-30T09:57:20.386545Z",
     "shell.execute_reply.started": "2023-11-30T09:57:20.361829Z"
    }
   },
   "outputs": [
    {
     "name": "stdout",
     "output_type": "stream",
     "text": [
      "Missing values before handling:\n",
      " index              0\n",
      "product            1\n",
      "category           0\n",
      "sub_category       0\n",
      "brand              1\n",
      "sale_price         0\n",
      "market_price       0\n",
      "type               0\n",
      "rating          8626\n",
      "description      115\n",
      "dtype: int64\n"
     ]
    }
   ],
   "source": [
    "# Identifying missing values\n",
    "missing_values = data.isnull().sum()\n",
    "print(\"Missing values before handling:\\n\", missing_values)"
   ]
  },
  {
   "cell_type": "code",
   "execution_count": 9,
   "metadata": {
    "execution": {
     "iopub.execute_input": "2023-11-30T09:57:20.814204Z",
     "iopub.status.busy": "2023-11-30T09:57:20.813383Z",
     "iopub.status.idle": "2023-11-30T09:57:20.850859Z",
     "shell.execute_reply": "2023-11-30T09:57:20.849872Z",
     "shell.execute_reply.started": "2023-11-30T09:57:20.814175Z"
    }
   },
   "outputs": [
    {
     "name": "stdout",
     "output_type": "stream",
     "text": [
      "\n",
      "Number of duplicate entries before removal: 0\n"
     ]
    }
   ],
   "source": [
    "# Identifying duplicates\n",
    "duplicates = data.duplicated().sum()\n",
    "print(\"\\nNumber of duplicate entries before removal:\", duplicates)\n"
   ]
  },
  {
   "cell_type": "code",
   "execution_count": 10,
   "metadata": {
    "execution": {
     "iopub.execute_input": "2023-11-30T09:57:21.243332Z",
     "iopub.status.busy": "2023-11-30T09:57:21.242377Z",
     "iopub.status.idle": "2023-11-30T09:57:21.262310Z",
     "shell.execute_reply": "2023-11-30T09:57:21.261362Z",
     "shell.execute_reply.started": "2023-11-30T09:57:21.243299Z"
    }
   },
   "outputs": [],
   "source": [
    "# Fill missing values\n",
    "data['product'].fillna('Unknown', inplace=True)\n",
    "data['brand'].fillna('Unknown', inplace=True)\n",
    "data['rating'].fillna(-1, inplace=True)  # or leave as NaN if preferred\n",
    "data['description'].fillna('No description available', inplace=True)"
   ]
  },
  {
   "cell_type": "code",
   "execution_count": 11,
   "metadata": {
    "execution": {
     "iopub.execute_input": "2023-11-30T09:57:21.707804Z",
     "iopub.status.busy": "2023-11-30T09:57:21.706830Z",
     "iopub.status.idle": "2023-11-30T09:57:21.736192Z",
     "shell.execute_reply": "2023-11-30T09:57:21.735234Z",
     "shell.execute_reply.started": "2023-11-30T09:57:21.707762Z"
    }
   },
   "outputs": [
    {
     "name": "stdout",
     "output_type": "stream",
     "text": [
      "\n",
      "Missing values after handling:\n",
      " index           0\n",
      "product         0\n",
      "category        0\n",
      "sub_category    0\n",
      "brand           0\n",
      "sale_price      0\n",
      "market_price    0\n",
      "type            0\n",
      "rating          0\n",
      "description     0\n",
      "dtype: int64\n"
     ]
    }
   ],
   "source": [
    "# Check the result after handling missing values\n",
    "missing_values_after = data.isnull().sum()\n",
    "print(\"\\nMissing values after handling:\\n\", missing_values_after)\n"
   ]
  },
  {
   "cell_type": "code",
   "execution_count": 12,
   "metadata": {
    "execution": {
     "iopub.execute_input": "2023-11-30T09:57:22.197170Z",
     "iopub.status.busy": "2023-11-30T09:57:22.196736Z",
     "iopub.status.idle": "2023-11-30T09:57:22.333130Z",
     "shell.execute_reply": "2023-11-30T09:57:22.332190Z",
     "shell.execute_reply.started": "2023-11-30T09:57:22.197137Z"
    }
   },
   "outputs": [],
   "source": [
    "text_columns = ['product', 'category', 'sub_category', 'brand', 'description', 'type']\n",
    "for col in text_columns:\n",
    "    data[col] = data[col].str.lower()"
   ]
  },
  {
   "cell_type": "code",
   "execution_count": 13,
   "metadata": {
    "execution": {
     "iopub.execute_input": "2023-11-30T09:57:22.968027Z",
     "iopub.status.busy": "2023-11-30T09:57:22.967142Z",
     "iopub.status.idle": "2023-11-30T09:57:36.322654Z",
     "shell.execute_reply": "2023-11-30T09:57:36.321715Z",
     "shell.execute_reply.started": "2023-11-30T09:57:22.967992Z"
    }
   },
   "outputs": [
    {
     "name": "stdout",
     "output_type": "stream",
     "text": [
      "\u001b[33mWARNING: Ignoring invalid distribution -lign (/Users/chowdharyashwendh/opt/anaconda3/lib/python3.9/site-packages)\u001b[0m\u001b[33m\n",
      "\u001b[0mRequirement already satisfied: nltk in /Users/chowdharyashwendh/opt/anaconda3/lib/python3.9/site-packages (3.6.5)\n",
      "Requirement already satisfied: click in /Users/chowdharyashwendh/opt/anaconda3/lib/python3.9/site-packages (from nltk) (8.0.3)\n",
      "Requirement already satisfied: joblib in /Users/chowdharyashwendh/opt/anaconda3/lib/python3.9/site-packages (from nltk) (1.1.0)\n",
      "Requirement already satisfied: regex>=2021.8.3 in /Users/chowdharyashwendh/opt/anaconda3/lib/python3.9/site-packages (from nltk) (2021.8.3)\n",
      "Requirement already satisfied: tqdm in /Users/chowdharyashwendh/opt/anaconda3/lib/python3.9/site-packages (from nltk) (4.62.3)\n",
      "\u001b[33mWARNING: Ignoring invalid distribution -lign (/Users/chowdharyashwendh/opt/anaconda3/lib/python3.9/site-packages)\u001b[0m\u001b[33m\n",
      "\u001b[0m\u001b[33mDEPRECATION: pyodbc 4.0.0-unsupported has a non-standard version number. pip 24.0 will enforce this behaviour change. A possible replacement is to upgrade to a newer version of pyodbc or contact the author to suggest that they release a version with a conforming version number. Discussion can be found at https://github.com/pypa/pip/issues/12063\u001b[0m\u001b[33m\n",
      "\u001b[0m"
     ]
    },
    {
     "name": "stderr",
     "output_type": "stream",
     "text": [
      "<frozen importlib._bootstrap>:228: RuntimeWarning: scipy._lib.messagestream.MessageStream size changed, may indicate binary incompatibility. Expected 56 from C header, got 64 from PyObject\n"
     ]
    }
   ],
   "source": [
    "!pip install nltk\n",
    "import pandas as pd\n",
    "import nltk\n",
    "from nltk.tokenize import word_tokenize"
   ]
  },
  {
   "cell_type": "code",
   "execution_count": 13,
   "metadata": {
    "execution": {
     "iopub.execute_input": "2023-11-30T09:57:36.325429Z",
     "iopub.status.busy": "2023-11-30T09:57:36.324742Z",
     "iopub.status.idle": "2023-11-30T09:57:56.528255Z",
     "shell.execute_reply": "2023-11-30T09:57:56.526937Z",
     "shell.execute_reply.started": "2023-11-30T09:57:36.325391Z"
    }
   },
   "outputs": [
    {
     "name": "stdout",
     "output_type": "stream",
     "text": [
      "\u001b[33mWARNING: Ignoring invalid distribution -lign (/Users/chowdharyashwendh/opt/anaconda3/lib/python3.9/site-packages)\u001b[0m\u001b[33m\n",
      "\u001b[0mRequirement already satisfied: pip in /Users/chowdharyashwendh/opt/anaconda3/lib/python3.9/site-packages (23.3.1)\n",
      "\u001b[33mWARNING: Ignoring invalid distribution -lign (/Users/chowdharyashwendh/opt/anaconda3/lib/python3.9/site-packages)\u001b[0m\u001b[33m\n",
      "\u001b[0m\u001b[33mDEPRECATION: pyodbc 4.0.0-unsupported has a non-standard version number. pip 24.0 will enforce this behaviour change. A possible replacement is to upgrade to a newer version of pyodbc or contact the author to suggest that they release a version with a conforming version number. Discussion can be found at https://github.com/pypa/pip/issues/12063\u001b[0m\u001b[33m\n",
      "\u001b[0m"
     ]
    }
   ],
   "source": [
    "!pip install --upgrade pip"
   ]
  },
  {
   "cell_type": "code",
   "execution_count": 14,
   "metadata": {
    "execution": {
     "iopub.execute_input": "2023-11-30T09:57:56.530163Z",
     "iopub.status.busy": "2023-11-30T09:57:56.529835Z",
     "iopub.status.idle": "2023-11-30T09:57:56.670047Z",
     "shell.execute_reply": "2023-11-30T09:57:56.669124Z",
     "shell.execute_reply.started": "2023-11-30T09:57:56.530133Z"
    }
   },
   "outputs": [
    {
     "name": "stderr",
     "output_type": "stream",
     "text": [
      "[nltk_data] Downloading package punkt to\n",
      "[nltk_data]     /Users/chowdharyashwendh/nltk_data...\n",
      "[nltk_data]   Package punkt is already up-to-date!\n"
     ]
    },
    {
     "data": {
      "text/plain": [
       "True"
      ]
     },
     "execution_count": 14,
     "metadata": {},
     "output_type": "execute_result"
    }
   ],
   "source": [
    "nltk.download('punkt')"
   ]
  },
  {
   "cell_type": "code",
   "execution_count": 15,
   "metadata": {
    "execution": {
     "iopub.execute_input": "2023-11-30T09:57:56.673241Z",
     "iopub.status.busy": "2023-11-30T09:57:56.672888Z",
     "iopub.status.idle": "2023-11-30T09:57:56.677916Z",
     "shell.execute_reply": "2023-11-30T09:57:56.676894Z",
     "shell.execute_reply.started": "2023-11-30T09:57:56.673209Z"
    }
   },
   "outputs": [],
   "source": [
    "def tokenize_text(text):\n",
    "    try:\n",
    "        return word_tokenize(text)\n",
    "    except:\n",
    "        return []"
   ]
  },
  {
   "cell_type": "code",
   "execution_count": 16,
   "metadata": {
    "execution": {
     "iopub.execute_input": "2023-11-30T09:57:56.679293Z",
     "iopub.status.busy": "2023-11-30T09:57:56.679024Z",
     "iopub.status.idle": "2023-11-30T09:58:26.896826Z",
     "shell.execute_reply": "2023-11-30T09:58:26.895929Z",
     "shell.execute_reply.started": "2023-11-30T09:57:56.679270Z"
    }
   },
   "outputs": [],
   "source": [
    "data['description'] = data['description'].astype(str).apply(tokenize_text)"
   ]
  },
  {
   "cell_type": "code",
   "execution_count": 17,
   "metadata": {
    "execution": {
     "iopub.execute_input": "2023-11-30T09:58:26.899052Z",
     "iopub.status.busy": "2023-11-30T09:58:26.898337Z",
     "iopub.status.idle": "2023-11-30T09:58:28.393594Z",
     "shell.execute_reply": "2023-11-30T09:58:28.392644Z",
     "shell.execute_reply.started": "2023-11-30T09:58:26.899015Z"
    }
   },
   "outputs": [],
   "source": [
    "data.to_csv('tokenized_file.csv', index=False)"
   ]
  },
  {
   "cell_type": "code",
   "execution_count": 18,
   "metadata": {
    "execution": {
     "iopub.execute_input": "2023-11-30T09:58:28.395203Z",
     "iopub.status.busy": "2023-11-30T09:58:28.394858Z",
     "iopub.status.idle": "2023-11-30T09:58:39.741301Z",
     "shell.execute_reply": "2023-11-30T09:58:39.740180Z",
     "shell.execute_reply.started": "2023-11-30T09:58:28.395172Z"
    }
   },
   "outputs": [
    {
     "name": "stdout",
     "output_type": "stream",
     "text": [
      "\u001b[33mWARNING: Ignoring invalid distribution -lign (/Users/chowdharyashwendh/opt/anaconda3/lib/python3.9/site-packages)\u001b[0m\u001b[33m\n",
      "\u001b[0mRequirement already satisfied: gensim in /Users/chowdharyashwendh/opt/anaconda3/lib/python3.9/site-packages (4.3.2)\n",
      "Requirement already satisfied: numpy>=1.18.5 in /Users/chowdharyashwendh/opt/anaconda3/lib/python3.9/site-packages (from gensim) (1.22.3)\n",
      "Requirement already satisfied: scipy>=1.7.0 in /Users/chowdharyashwendh/opt/anaconda3/lib/python3.9/site-packages (from gensim) (1.11.2)\n",
      "Requirement already satisfied: smart-open>=1.8.1 in /Users/chowdharyashwendh/opt/anaconda3/lib/python3.9/site-packages (from gensim) (5.2.1)\n",
      "\u001b[33mWARNING: Ignoring invalid distribution -lign (/Users/chowdharyashwendh/opt/anaconda3/lib/python3.9/site-packages)\u001b[0m\u001b[33m\n",
      "\u001b[0m\u001b[33mDEPRECATION: pyodbc 4.0.0-unsupported has a non-standard version number. pip 24.0 will enforce this behaviour change. A possible replacement is to upgrade to a newer version of pyodbc or contact the author to suggest that they release a version with a conforming version number. Discussion can be found at https://github.com/pypa/pip/issues/12063\u001b[0m\u001b[33m\n",
      "\u001b[0m"
     ]
    }
   ],
   "source": [
    "!pip install gensim"
   ]
  },
  {
   "cell_type": "code",
   "execution_count": 19,
   "metadata": {
    "execution": {
     "iopub.execute_input": "2023-11-30T09:58:39.743068Z",
     "iopub.status.busy": "2023-11-30T09:58:39.742758Z",
     "iopub.status.idle": "2023-11-30T09:58:40.160852Z",
     "shell.execute_reply": "2023-11-30T09:58:40.160042Z",
     "shell.execute_reply.started": "2023-11-30T09:58:39.743039Z"
    }
   },
   "outputs": [],
   "source": [
    "data = pd.read_csv('tokenized_file.csv')"
   ]
  },
  {
   "cell_type": "code",
   "execution_count": 20,
   "metadata": {
    "execution": {
     "iopub.execute_input": "2023-11-30T09:58:40.162455Z",
     "iopub.status.busy": "2023-11-30T09:58:40.162084Z",
     "iopub.status.idle": "2023-11-30T09:58:40.179603Z",
     "shell.execute_reply": "2023-11-30T09:58:40.178625Z",
     "shell.execute_reply.started": "2023-11-30T09:58:40.162425Z"
    }
   },
   "outputs": [
    {
     "data": {
      "text/html": [
       "<div>\n",
       "<style scoped>\n",
       "    .dataframe tbody tr th:only-of-type {\n",
       "        vertical-align: middle;\n",
       "    }\n",
       "\n",
       "    .dataframe tbody tr th {\n",
       "        vertical-align: top;\n",
       "    }\n",
       "\n",
       "    .dataframe thead th {\n",
       "        text-align: right;\n",
       "    }\n",
       "</style>\n",
       "<table border=\"1\" class=\"dataframe\">\n",
       "  <thead>\n",
       "    <tr style=\"text-align: right;\">\n",
       "      <th></th>\n",
       "      <th>index</th>\n",
       "      <th>product</th>\n",
       "      <th>category</th>\n",
       "      <th>sub_category</th>\n",
       "      <th>brand</th>\n",
       "      <th>sale_price</th>\n",
       "      <th>market_price</th>\n",
       "      <th>type</th>\n",
       "      <th>rating</th>\n",
       "      <th>description</th>\n",
       "    </tr>\n",
       "  </thead>\n",
       "  <tbody>\n",
       "    <tr>\n",
       "      <th>0</th>\n",
       "      <td>1</td>\n",
       "      <td>garlic oil - vegetarian capsule 500 mg</td>\n",
       "      <td>beauty &amp; hygiene</td>\n",
       "      <td>hair care</td>\n",
       "      <td>sri sri ayurveda</td>\n",
       "      <td>220.0</td>\n",
       "      <td>220.0</td>\n",
       "      <td>hair oil &amp; serum</td>\n",
       "      <td>4.1</td>\n",
       "      <td>['this', 'product', 'contains', 'garlic', 'oil...</td>\n",
       "    </tr>\n",
       "    <tr>\n",
       "      <th>1</th>\n",
       "      <td>2</td>\n",
       "      <td>water bottle - orange</td>\n",
       "      <td>kitchen, garden &amp; pets</td>\n",
       "      <td>storage &amp; accessories</td>\n",
       "      <td>mastercook</td>\n",
       "      <td>180.0</td>\n",
       "      <td>180.0</td>\n",
       "      <td>water &amp; fridge bottles</td>\n",
       "      <td>2.3</td>\n",
       "      <td>['each', 'product', 'is', 'microwave', 'safe',...</td>\n",
       "    </tr>\n",
       "    <tr>\n",
       "      <th>2</th>\n",
       "      <td>3</td>\n",
       "      <td>brass angle deep - plain, no.2</td>\n",
       "      <td>cleaning &amp; household</td>\n",
       "      <td>pooja needs</td>\n",
       "      <td>trm</td>\n",
       "      <td>119.0</td>\n",
       "      <td>250.0</td>\n",
       "      <td>lamp &amp; lamp oil</td>\n",
       "      <td>3.4</td>\n",
       "      <td>['a', 'perfect', 'gift', 'for', 'all', 'occasi...</td>\n",
       "    </tr>\n",
       "    <tr>\n",
       "      <th>3</th>\n",
       "      <td>4</td>\n",
       "      <td>cereal flip lid container/storage jar - assort...</td>\n",
       "      <td>cleaning &amp; household</td>\n",
       "      <td>bins &amp; bathroom ware</td>\n",
       "      <td>nakoda</td>\n",
       "      <td>149.0</td>\n",
       "      <td>176.0</td>\n",
       "      <td>laundry, storage baskets</td>\n",
       "      <td>3.7</td>\n",
       "      <td>['multipurpose', 'container', 'with', 'an', 'a...</td>\n",
       "    </tr>\n",
       "    <tr>\n",
       "      <th>4</th>\n",
       "      <td>5</td>\n",
       "      <td>creme soft soap - for hands &amp; body</td>\n",
       "      <td>beauty &amp; hygiene</td>\n",
       "      <td>bath &amp; hand wash</td>\n",
       "      <td>nivea</td>\n",
       "      <td>162.0</td>\n",
       "      <td>162.0</td>\n",
       "      <td>bathing bars &amp; soaps</td>\n",
       "      <td>4.4</td>\n",
       "      <td>['nivea', 'creme', 'soft', 'soap', 'gives', 'y...</td>\n",
       "    </tr>\n",
       "  </tbody>\n",
       "</table>\n",
       "</div>"
      ],
      "text/plain": [
       "   index                                            product  \\\n",
       "0      1             garlic oil - vegetarian capsule 500 mg   \n",
       "1      2                              water bottle - orange   \n",
       "2      3                     brass angle deep - plain, no.2   \n",
       "3      4  cereal flip lid container/storage jar - assort...   \n",
       "4      5                 creme soft soap - for hands & body   \n",
       "\n",
       "                 category           sub_category              brand  \\\n",
       "0        beauty & hygiene              hair care  sri sri ayurveda    \n",
       "1  kitchen, garden & pets  storage & accessories         mastercook   \n",
       "2    cleaning & household            pooja needs                trm   \n",
       "3    cleaning & household   bins & bathroom ware             nakoda   \n",
       "4        beauty & hygiene       bath & hand wash              nivea   \n",
       "\n",
       "   sale_price  market_price                      type  rating  \\\n",
       "0       220.0         220.0          hair oil & serum     4.1   \n",
       "1       180.0         180.0    water & fridge bottles     2.3   \n",
       "2       119.0         250.0           lamp & lamp oil     3.4   \n",
       "3       149.0         176.0  laundry, storage baskets     3.7   \n",
       "4       162.0         162.0      bathing bars & soaps     4.4   \n",
       "\n",
       "                                         description  \n",
       "0  ['this', 'product', 'contains', 'garlic', 'oil...  \n",
       "1  ['each', 'product', 'is', 'microwave', 'safe',...  \n",
       "2  ['a', 'perfect', 'gift', 'for', 'all', 'occasi...  \n",
       "3  ['multipurpose', 'container', 'with', 'an', 'a...  \n",
       "4  ['nivea', 'creme', 'soft', 'soap', 'gives', 'y...  "
      ]
     },
     "execution_count": 20,
     "metadata": {},
     "output_type": "execute_result"
    }
   ],
   "source": [
    "data.head()"
   ]
  },
  {
   "cell_type": "code",
   "execution_count": 21,
   "metadata": {
    "execution": {
     "iopub.execute_input": "2023-11-30T10:02:37.230672Z",
     "iopub.status.busy": "2023-11-30T10:02:37.229917Z",
     "iopub.status.idle": "2023-11-30T10:02:45.550800Z",
     "shell.execute_reply": "2023-11-30T10:02:45.549922Z",
     "shell.execute_reply.started": "2023-11-30T10:02:37.230638Z"
    }
   },
   "outputs": [],
   "source": [
    "from gensim.models import Word2Vec"
   ]
  },
  {
   "cell_type": "code",
   "execution_count": 22,
   "metadata": {
    "execution": {
     "iopub.execute_input": "2023-11-30T10:02:51.862061Z",
     "iopub.status.busy": "2023-11-30T10:02:51.861525Z",
     "iopub.status.idle": "2023-11-30T10:03:24.953969Z",
     "shell.execute_reply": "2023-11-30T10:03:24.953136Z",
     "shell.execute_reply.started": "2023-11-30T10:02:51.862033Z"
    }
   },
   "outputs": [],
   "source": [
    "# Assuming 'tokenized_description' is the column with tokenized text\n",
    "model = Word2Vec(sentences=data['description'], vector_size=100, window=5, min_count=1, workers=4)\n"
   ]
  },
  {
   "cell_type": "code",
   "execution_count": 23,
   "metadata": {
    "execution": {
     "iopub.execute_input": "2023-11-30T10:03:24.955711Z",
     "iopub.status.busy": "2023-11-30T10:03:24.955392Z",
     "iopub.status.idle": "2023-11-30T10:03:24.961295Z",
     "shell.execute_reply": "2023-11-30T10:03:24.960502Z",
     "shell.execute_reply.started": "2023-11-30T10:03:24.955685Z"
    }
   },
   "outputs": [],
   "source": [
    "model.save(\"word2vec_bigbasket.model\")\n"
   ]
  },
  {
   "cell_type": "code",
   "execution_count": 24,
   "metadata": {
    "execution": {
     "iopub.execute_input": "2023-11-30T10:03:24.962444Z",
     "iopub.status.busy": "2023-11-30T10:03:24.962208Z",
     "iopub.status.idle": "2023-11-30T10:03:24.973886Z",
     "shell.execute_reply": "2023-11-30T10:03:24.973141Z",
     "shell.execute_reply.started": "2023-11-30T10:03:24.962424Z"
    }
   },
   "outputs": [],
   "source": [
    "import numpy as np"
   ]
  },
  {
   "cell_type": "code",
   "execution_count": 25,
   "metadata": {
    "execution": {
     "iopub.execute_input": "2023-11-30T10:03:24.975713Z",
     "iopub.status.busy": "2023-11-30T10:03:24.975421Z",
     "iopub.status.idle": "2023-11-30T10:04:32.214788Z",
     "shell.execute_reply": "2023-11-30T10:04:32.213895Z",
     "shell.execute_reply.started": "2023-11-30T10:03:24.975685Z"
    }
   },
   "outputs": [],
   "source": [
    "def average_vector(description, model):\n",
    "    vectors = [model.wv[word] for word in description if word in model.wv]\n",
    "    return np.mean(vectors, axis=0) if vectors else np.zeros(model.vector_size)\n",
    "\n",
    "data['average_vector'] = data['description'].apply(lambda x: average_vector(x, model))\n"
   ]
  },
  {
   "cell_type": "code",
   "execution_count": 26,
   "metadata": {
    "execution": {
     "iopub.execute_input": "2023-11-30T10:04:32.216391Z",
     "iopub.status.busy": "2023-11-30T10:04:32.216022Z",
     "iopub.status.idle": "2023-11-30T10:04:32.240737Z",
     "shell.execute_reply": "2023-11-30T10:04:32.239838Z",
     "shell.execute_reply.started": "2023-11-30T10:04:32.216358Z"
    }
   },
   "outputs": [
    {
     "data": {
      "text/html": [
       "<div>\n",
       "<style scoped>\n",
       "    .dataframe tbody tr th:only-of-type {\n",
       "        vertical-align: middle;\n",
       "    }\n",
       "\n",
       "    .dataframe tbody tr th {\n",
       "        vertical-align: top;\n",
       "    }\n",
       "\n",
       "    .dataframe thead th {\n",
       "        text-align: right;\n",
       "    }\n",
       "</style>\n",
       "<table border=\"1\" class=\"dataframe\">\n",
       "  <thead>\n",
       "    <tr style=\"text-align: right;\">\n",
       "      <th></th>\n",
       "      <th>index</th>\n",
       "      <th>product</th>\n",
       "      <th>category</th>\n",
       "      <th>sub_category</th>\n",
       "      <th>brand</th>\n",
       "      <th>sale_price</th>\n",
       "      <th>market_price</th>\n",
       "      <th>type</th>\n",
       "      <th>rating</th>\n",
       "      <th>description</th>\n",
       "      <th>average_vector</th>\n",
       "    </tr>\n",
       "  </thead>\n",
       "  <tbody>\n",
       "    <tr>\n",
       "      <th>0</th>\n",
       "      <td>1</td>\n",
       "      <td>garlic oil - vegetarian capsule 500 mg</td>\n",
       "      <td>beauty &amp; hygiene</td>\n",
       "      <td>hair care</td>\n",
       "      <td>sri sri ayurveda</td>\n",
       "      <td>220.0</td>\n",
       "      <td>220.0</td>\n",
       "      <td>hair oil &amp; serum</td>\n",
       "      <td>4.1</td>\n",
       "      <td>['this', 'product', 'contains', 'garlic', 'oil...</td>\n",
       "      <td>[0.080264166, 0.10761855, -0.1002616, 0.121761...</td>\n",
       "    </tr>\n",
       "    <tr>\n",
       "      <th>1</th>\n",
       "      <td>2</td>\n",
       "      <td>water bottle - orange</td>\n",
       "      <td>kitchen, garden &amp; pets</td>\n",
       "      <td>storage &amp; accessories</td>\n",
       "      <td>mastercook</td>\n",
       "      <td>180.0</td>\n",
       "      <td>180.0</td>\n",
       "      <td>water &amp; fridge bottles</td>\n",
       "      <td>2.3</td>\n",
       "      <td>['each', 'product', 'is', 'microwave', 'safe',...</td>\n",
       "      <td>[0.09878628, 0.09100483, -0.150621, 0.13307975...</td>\n",
       "    </tr>\n",
       "    <tr>\n",
       "      <th>2</th>\n",
       "      <td>3</td>\n",
       "      <td>brass angle deep - plain, no.2</td>\n",
       "      <td>cleaning &amp; household</td>\n",
       "      <td>pooja needs</td>\n",
       "      <td>trm</td>\n",
       "      <td>119.0</td>\n",
       "      <td>250.0</td>\n",
       "      <td>lamp &amp; lamp oil</td>\n",
       "      <td>3.4</td>\n",
       "      <td>['a', 'perfect', 'gift', 'for', 'all', 'occasi...</td>\n",
       "      <td>[0.095277295, 0.11226514, -0.14371572, 0.12128...</td>\n",
       "    </tr>\n",
       "    <tr>\n",
       "      <th>3</th>\n",
       "      <td>4</td>\n",
       "      <td>cereal flip lid container/storage jar - assort...</td>\n",
       "      <td>cleaning &amp; household</td>\n",
       "      <td>bins &amp; bathroom ware</td>\n",
       "      <td>nakoda</td>\n",
       "      <td>149.0</td>\n",
       "      <td>176.0</td>\n",
       "      <td>laundry, storage baskets</td>\n",
       "      <td>3.7</td>\n",
       "      <td>['multipurpose', 'container', 'with', 'an', 'a...</td>\n",
       "      <td>[0.10451714, 0.104870826, -0.1336961, 0.134122...</td>\n",
       "    </tr>\n",
       "    <tr>\n",
       "      <th>4</th>\n",
       "      <td>5</td>\n",
       "      <td>creme soft soap - for hands &amp; body</td>\n",
       "      <td>beauty &amp; hygiene</td>\n",
       "      <td>bath &amp; hand wash</td>\n",
       "      <td>nivea</td>\n",
       "      <td>162.0</td>\n",
       "      <td>162.0</td>\n",
       "      <td>bathing bars &amp; soaps</td>\n",
       "      <td>4.4</td>\n",
       "      <td>['nivea', 'creme', 'soft', 'soap', 'gives', 'y...</td>\n",
       "      <td>[0.08212286, 0.10669013, -0.132759, 0.10138050...</td>\n",
       "    </tr>\n",
       "  </tbody>\n",
       "</table>\n",
       "</div>"
      ],
      "text/plain": [
       "   index                                            product  \\\n",
       "0      1             garlic oil - vegetarian capsule 500 mg   \n",
       "1      2                              water bottle - orange   \n",
       "2      3                     brass angle deep - plain, no.2   \n",
       "3      4  cereal flip lid container/storage jar - assort...   \n",
       "4      5                 creme soft soap - for hands & body   \n",
       "\n",
       "                 category           sub_category              brand  \\\n",
       "0        beauty & hygiene              hair care  sri sri ayurveda    \n",
       "1  kitchen, garden & pets  storage & accessories         mastercook   \n",
       "2    cleaning & household            pooja needs                trm   \n",
       "3    cleaning & household   bins & bathroom ware             nakoda   \n",
       "4        beauty & hygiene       bath & hand wash              nivea   \n",
       "\n",
       "   sale_price  market_price                      type  rating  \\\n",
       "0       220.0         220.0          hair oil & serum     4.1   \n",
       "1       180.0         180.0    water & fridge bottles     2.3   \n",
       "2       119.0         250.0           lamp & lamp oil     3.4   \n",
       "3       149.0         176.0  laundry, storage baskets     3.7   \n",
       "4       162.0         162.0      bathing bars & soaps     4.4   \n",
       "\n",
       "                                         description  \\\n",
       "0  ['this', 'product', 'contains', 'garlic', 'oil...   \n",
       "1  ['each', 'product', 'is', 'microwave', 'safe',...   \n",
       "2  ['a', 'perfect', 'gift', 'for', 'all', 'occasi...   \n",
       "3  ['multipurpose', 'container', 'with', 'an', 'a...   \n",
       "4  ['nivea', 'creme', 'soft', 'soap', 'gives', 'y...   \n",
       "\n",
       "                                      average_vector  \n",
       "0  [0.080264166, 0.10761855, -0.1002616, 0.121761...  \n",
       "1  [0.09878628, 0.09100483, -0.150621, 0.13307975...  \n",
       "2  [0.095277295, 0.11226514, -0.14371572, 0.12128...  \n",
       "3  [0.10451714, 0.104870826, -0.1336961, 0.134122...  \n",
       "4  [0.08212286, 0.10669013, -0.132759, 0.10138050...  "
      ]
     },
     "execution_count": 26,
     "metadata": {},
     "output_type": "execute_result"
    }
   ],
   "source": [
    "data.head()"
   ]
  },
  {
   "cell_type": "code",
   "execution_count": 27,
   "metadata": {},
   "outputs": [
    {
     "name": "stdout",
     "output_type": "stream",
     "text": [
      "\u001b[33mWARNING: Ignoring invalid distribution -lign (/Users/chowdharyashwendh/opt/anaconda3/lib/python3.9/site-packages)\u001b[0m\u001b[33m\n",
      "\u001b[0mRequirement already satisfied: pip in /Users/chowdharyashwendh/opt/anaconda3/lib/python3.9/site-packages (23.3.1)\n",
      "\u001b[33mWARNING: Ignoring invalid distribution -lign (/Users/chowdharyashwendh/opt/anaconda3/lib/python3.9/site-packages)\u001b[0m\u001b[33m\n",
      "\u001b[0m\u001b[33mDEPRECATION: pyodbc 4.0.0-unsupported has a non-standard version number. pip 24.0 will enforce this behaviour change. A possible replacement is to upgrade to a newer version of pyodbc or contact the author to suggest that they release a version with a conforming version number. Discussion can be found at https://github.com/pypa/pip/issues/12063\u001b[0m\u001b[33m\n",
      "\u001b[0m"
     ]
    }
   ],
   "source": [
    "!pip install --upgrade pip"
   ]
  },
  {
   "cell_type": "code",
   "execution_count": 26,
   "metadata": {},
   "outputs": [
    {
     "name": "stdout",
     "output_type": "stream",
     "text": [
      "\u001b[33mWARNING: Ignoring invalid distribution -lign (/Users/chowdharyashwendh/opt/anaconda3/lib/python3.9/site-packages)\u001b[0m\u001b[33m\n",
      "\u001b[0mRequirement already satisfied: qdrant-client in /Users/chowdharyashwendh/opt/anaconda3/lib/python3.9/site-packages (1.6.9)\n",
      "Requirement already satisfied: grpcio>=1.41.0 in /Users/chowdharyashwendh/opt/anaconda3/lib/python3.9/site-packages (from qdrant-client) (1.59.3)\n",
      "Requirement already satisfied: grpcio-tools>=1.41.0 in /Users/chowdharyashwendh/opt/anaconda3/lib/python3.9/site-packages (from qdrant-client) (1.59.3)\n",
      "Requirement already satisfied: httpx>=0.14.0 in /Users/chowdharyashwendh/opt/anaconda3/lib/python3.9/site-packages (from httpx[http2]>=0.14.0->qdrant-client) (0.25.2)\n",
      "Requirement already satisfied: numpy>=1.21 in /Users/chowdharyashwendh/opt/anaconda3/lib/python3.9/site-packages (from qdrant-client) (1.22.3)\n",
      "Requirement already satisfied: portalocker<3.0.0,>=2.7.0 in /Users/chowdharyashwendh/opt/anaconda3/lib/python3.9/site-packages (from qdrant-client) (2.8.2)\n",
      "Requirement already satisfied: pydantic>=1.10.8 in /Users/chowdharyashwendh/opt/anaconda3/lib/python3.9/site-packages (from qdrant-client) (1.10.13)\n",
      "Requirement already satisfied: urllib3<2.0.0,>=1.26.14 in /Users/chowdharyashwendh/opt/anaconda3/lib/python3.9/site-packages (from qdrant-client) (1.26.18)\n",
      "Requirement already satisfied: protobuf<5.0dev,>=4.21.6 in /Users/chowdharyashwendh/opt/anaconda3/lib/python3.9/site-packages (from grpcio-tools>=1.41.0->qdrant-client) (4.23.3)\n",
      "Requirement already satisfied: setuptools in /Users/chowdharyashwendh/opt/anaconda3/lib/python3.9/site-packages (from grpcio-tools>=1.41.0->qdrant-client) (58.0.4)\n",
      "Requirement already satisfied: anyio in /Users/chowdharyashwendh/opt/anaconda3/lib/python3.9/site-packages (from httpx>=0.14.0->httpx[http2]>=0.14.0->qdrant-client) (2.2.0)\n",
      "Requirement already satisfied: certifi in /Users/chowdharyashwendh/opt/anaconda3/lib/python3.9/site-packages (from httpx>=0.14.0->httpx[http2]>=0.14.0->qdrant-client) (2023.7.22)\n",
      "Requirement already satisfied: httpcore==1.* in /Users/chowdharyashwendh/opt/anaconda3/lib/python3.9/site-packages (from httpx>=0.14.0->httpx[http2]>=0.14.0->qdrant-client) (1.0.2)\n",
      "Requirement already satisfied: idna in /Users/chowdharyashwendh/opt/anaconda3/lib/python3.9/site-packages (from httpx>=0.14.0->httpx[http2]>=0.14.0->qdrant-client) (3.2)\n",
      "Requirement already satisfied: sniffio in /Users/chowdharyashwendh/opt/anaconda3/lib/python3.9/site-packages (from httpx>=0.14.0->httpx[http2]>=0.14.0->qdrant-client) (1.2.0)\n",
      "Requirement already satisfied: h11<0.15,>=0.13 in /Users/chowdharyashwendh/opt/anaconda3/lib/python3.9/site-packages (from httpcore==1.*->httpx>=0.14.0->httpx[http2]>=0.14.0->qdrant-client) (0.14.0)\n",
      "Requirement already satisfied: h2<5,>=3 in /Users/chowdharyashwendh/opt/anaconda3/lib/python3.9/site-packages (from httpx[http2]>=0.14.0->qdrant-client) (4.1.0)\n",
      "Requirement already satisfied: typing-extensions>=4.2.0 in /Users/chowdharyashwendh/opt/anaconda3/lib/python3.9/site-packages (from pydantic>=1.10.8->qdrant-client) (4.7.1)\n",
      "Requirement already satisfied: hyperframe<7,>=6.0 in /Users/chowdharyashwendh/opt/anaconda3/lib/python3.9/site-packages (from h2<5,>=3->httpx[http2]>=0.14.0->qdrant-client) (6.0.1)\n",
      "Requirement already satisfied: hpack<5,>=4.0 in /Users/chowdharyashwendh/opt/anaconda3/lib/python3.9/site-packages (from h2<5,>=3->httpx[http2]>=0.14.0->qdrant-client) (4.0.0)\n",
      "\u001b[33mWARNING: Ignoring invalid distribution -lign (/Users/chowdharyashwendh/opt/anaconda3/lib/python3.9/site-packages)\u001b[0m\u001b[33m\n",
      "\u001b[0m\u001b[33mDEPRECATION: pyodbc 4.0.0-unsupported has a non-standard version number. pip 24.0 will enforce this behaviour change. A possible replacement is to upgrade to a newer version of pyodbc or contact the author to suggest that they release a version with a conforming version number. Discussion can be found at https://github.com/pypa/pip/issues/12063\u001b[0m\u001b[33m\n",
      "\u001b[0m"
     ]
    }
   ],
   "source": [
    "!pip install qdrant-client\n"
   ]
  },
  {
   "cell_type": "code",
   "execution_count": 62,
   "metadata": {},
   "outputs": [
    {
     "data": {
      "text/plain": [
       "<qdrant_client.qdrant_client.QdrantClient at 0x7f91a60569d0>"
      ]
     },
     "execution_count": 62,
     "metadata": {},
     "output_type": "execute_result"
    }
   ],
   "source": [
    "# Import client library\n",
    "from qdrant_client import QdrantClient\n",
    "from qdrant_client.models import VectorParams, Distance\n",
    "from qdrant_client import models\n",
    "qdrant_client = QdrantClient(host = \"localhost\", port = 6333)\n",
    "qdrant_client"
   ]
  },
  {
   "cell_type": "code",
   "execution_count": 63,
   "metadata": {},
   "outputs": [],
   "source": [
    "\n",
    "COLLECTION_NAME = 'chaabi5'  # Name your collection\n",
    "VECTOR_SIZE = 100  # This should match the vector_size used in Word2Vec\n"
   ]
  },
  {
   "cell_type": "code",
   "execution_count": 64,
   "metadata": {},
   "outputs": [
    {
     "data": {
      "text/plain": [
       "True"
      ]
     },
     "execution_count": 64,
     "metadata": {},
     "output_type": "execute_result"
    }
   ],
   "source": [
    "\n",
    "\n",
    "# Create or recreate the collection in Qdrant\n",
    "qdrant_client.create_collection(\n",
    "    collection_name=COLLECTION_NAME,\n",
    "    vectors_config=models.VectorParams(size=VECTOR_SIZE, distance=models.Distance. COSINE)\n",
    ")\n",
    "\n"
   ]
  },
  {
   "cell_type": "code",
   "execution_count": 65,
   "metadata": {},
   "outputs": [],
   "source": [
    "# Convert the vectors to list format and prepare the payload\n",
    "vectors = data['average_vector'].apply(lambda x: x.tolist()).tolist()\n",
    "payload = data.drop(columns=['description', 'average_vector']).to_dict('records')\n",
    "\n"
   ]
  },
  {
   "cell_type": "code",
   "execution_count": 66,
   "metadata": {},
   "outputs": [],
   "source": [
    "qdrant_client.upload_collection(\n",
    "    collection_name=COLLECTION_NAME,\n",
    "    vectors=vectors,\n",
    "    payload=payload,\n",
    "    ids=None,  # Vector ids will be assigned automatically\n",
    "    batch_size=256,  # How many vectors will be uploaded in a single request?\n",
    ")\n"
   ]
  },
  {
   "cell_type": "code",
   "execution_count": 67,
   "metadata": {},
   "outputs": [],
   "source": [
    "from gensim.models import Word2Vec\n",
    "from qdrant_client import QdrantClient\n",
    "\n",
    "class Word2VecSearcher:\n",
    "    def __init__(self, collection_name, word2vec_model_path):\n",
    "        self.collection_name = collection_name\n",
    "        self.model = Word2Vec.load(word2vec_model_path)\n",
    "       ## self.qdrant_client = QdrantClient(host='localhost', port=6333)\n",
    "\n",
    "    def search(self, query_text, top_k=5):\n",
    "        # Tokenize and encode the query text into a vector\n",
    "        \n",
    "        query_tokens = query_text.lower().split()\n",
    "        #query_vector = [self.model.wv[word] for word in query_tokens if word in self.model.wv]\n",
    "        query_vector=average_vector(query_tokens, model)\n",
    "        print(\"1\",query_vector)\n",
    "        if  len(query_vector)==0:\n",
    "            return []  # Return empty if no words are found in the model\n",
    "        #query_vector = np.mean(query_vector, axis=0).tolist()\n",
    "        \n",
    "        # Perform the search\n",
    "        search_result = qdrant_client.search(\n",
    "            collection_name=self.collection_name,\n",
    "            query_vector=query_vector,\n",
    "            query_filter=None,  # Add filters if needed\n",
    "            limit=top_k\n",
    "        )\n",
    "\n",
    "        # Extract results\n",
    "        return [hit.payload for hit in search_result]\n"
   ]
  },
  {
   "cell_type": "code",
   "execution_count": 68,
   "metadata": {},
   "outputs": [
    {
     "name": "stdout",
     "output_type": "stream",
     "text": [
      "1 [0. 0. 0. 0. 0. 0. 0. 0. 0. 0. 0. 0. 0. 0. 0. 0. 0. 0. 0. 0. 0. 0. 0. 0.\n",
      " 0. 0. 0. 0. 0. 0. 0. 0. 0. 0. 0. 0. 0. 0. 0. 0. 0. 0. 0. 0. 0. 0. 0. 0.\n",
      " 0. 0. 0. 0. 0. 0. 0. 0. 0. 0. 0. 0. 0. 0. 0. 0. 0. 0. 0. 0. 0. 0. 0. 0.\n",
      " 0. 0. 0. 0. 0. 0. 0. 0. 0. 0. 0. 0. 0. 0. 0. 0. 0. 0. 0. 0. 0. 0. 0. 0.\n",
      " 0. 0. 0. 0.]\n",
      "## [{'brand': 'letsshave', 'category': 'beauty & hygiene', 'index': 872, 'market_price': 299.0, 'product': 'pro 4 shaving razor for men - blade + handle + cap', 'rating': -1.0, 'sale_price': 299.0, 'sub_category': \"men's grooming\", 'type': 'shaving care'}, {'brand': 'bodyherbals', 'category': 'beauty & hygiene', 'index': 949, 'market_price': 299.0, 'product': 'brightening booster orange shower gel', 'rating': 3.0, 'sale_price': 299.0, 'sub_category': 'bath & hand wash', 'type': 'shower gel & body wash'}, {'brand': 'timios', 'category': 'snacks & branded foods', 'index': 861, 'market_price': 700.0, 'product': 'energy bars - berry, 4+ years, 100% natural & healthy', 'rating': 3.8, 'sale_price': 700.0, 'sub_category': 'chocolates & candies', 'type': 'chocolates'}, {'brand': 'jacques bogart', 'category': 'beauty & hygiene', 'index': 1005, 'market_price': 2340.0, 'product': 'one man show gold eau de toilette', 'rating': -1.0, 'sale_price': 1638.0, 'sub_category': 'fragrances & deos', 'type': 'eau de toilette'}, {'brand': 'sprig tea', 'category': 'beverages', 'index': 814, 'market_price': 149.0, 'product': '100% green tea', 'rating': 3.8, 'sale_price': 141.55, 'sub_category': 'tea', 'type': 'green tea'}]\n",
      "# {'brand': 'letsshave', 'category': 'beauty & hygiene', 'index': 872, 'market_price': 299.0, 'product': 'pro 4 shaving razor for men - blade + handle + cap', 'rating': -1.0, 'sale_price': 299.0, 'sub_category': \"men's grooming\", 'type': 'shaving care'}\n",
      "# {'brand': 'bodyherbals', 'category': 'beauty & hygiene', 'index': 949, 'market_price': 299.0, 'product': 'brightening booster orange shower gel', 'rating': 3.0, 'sale_price': 299.0, 'sub_category': 'bath & hand wash', 'type': 'shower gel & body wash'}\n",
      "# {'brand': 'timios', 'category': 'snacks & branded foods', 'index': 861, 'market_price': 700.0, 'product': 'energy bars - berry, 4+ years, 100% natural & healthy', 'rating': 3.8, 'sale_price': 700.0, 'sub_category': 'chocolates & candies', 'type': 'chocolates'}\n",
      "# {'brand': 'jacques bogart', 'category': 'beauty & hygiene', 'index': 1005, 'market_price': 2340.0, 'product': 'one man show gold eau de toilette', 'rating': -1.0, 'sale_price': 1638.0, 'sub_category': 'fragrances & deos', 'type': 'eau de toilette'}\n",
      "# {'brand': 'sprig tea', 'category': 'beverages', 'index': 814, 'market_price': 149.0, 'product': '100% green tea', 'rating': 3.8, 'sale_price': 141.55, 'sub_category': 'tea', 'type': 'green tea'}\n"
     ]
    }
   ],
   "source": [
    "import numpy as np\n",
    "\n",
    "collection_name = COLLECTION_NAME  # replace with your collection name\n",
    "word2vec_model_path = 'word2vec_bigbasket.model'  # replace with your model path\n",
    "searcher = Word2VecSearcher(collection_name, word2vec_model_path)\n",
    "\n",
    "query = \"yogurt\"\n",
    "results = searcher.search(query, top_k=5)\n",
    "print(\"##\",results)\n",
    "\n",
    "for result in results:\n",
    "    print(\"#\",result)\n"
   ]
  },
  {
   "cell_type": "code",
   "execution_count": null,
   "metadata": {},
   "outputs": [],
   "source": []
  }
 ],
 "metadata": {
  "kaggle": {
   "accelerator": "gpu",
   "dataSources": [
    {
     "datasetId": 4083102,
     "sourceId": 7086677,
     "sourceType": "datasetVersion"
    }
   ],
   "dockerImageVersionId": 30588,
   "isGpuEnabled": true,
   "isInternetEnabled": true,
   "language": "python",
   "sourceType": "notebook"
  },
  "kernelspec": {
   "display_name": "Python 3 (ipykernel)",
   "language": "python",
   "name": "python3"
  },
  "language_info": {
   "codemirror_mode": {
    "name": "ipython",
    "version": 3
   },
   "file_extension": ".py",
   "mimetype": "text/x-python",
   "name": "python",
   "nbconvert_exporter": "python",
   "pygments_lexer": "ipython3",
   "version": "3.9.7"
  }
 },
 "nbformat": 4,
 "nbformat_minor": 4
}
